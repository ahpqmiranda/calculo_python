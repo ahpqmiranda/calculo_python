{
 "cells": [
  {
   "cell_type": "code",
   "execution_count": 49,
   "metadata": {
    "collapsed": true,
    "pycharm": {
     "name": "#%%\n"
    }
   },
   "outputs": [],
   "source": [
    "import numpy as np\n",
    "import sympy as sp\n",
    "import scipy as sc\n",
    "import matplotlib.pyplot as plt\n",
    "import matplotlib.patches as mpatches\n",
    "from math import pi\n",
    "from scipy.integrate import odeint"
   ]
  },
  {
   "cell_type": "code",
   "execution_count": 50,
   "outputs": [],
   "source": [
    "# impressão na forma LaTeX\n",
    "from sympy.abc import x, y\n",
    "sp.init_printing(use_unicode=True)"
   ],
   "metadata": {
    "collapsed": false,
    "pycharm": {
     "name": "#%%\n"
    }
   }
  },
  {
   "cell_type": "code",
   "execution_count": 51,
   "outputs": [],
   "source": [
    "def h(x): return sp.sin(x) * sp.cos(x)\n",
    "f = sp.sin(x) * sp.cos(x)"
   ],
   "metadata": {
    "collapsed": false,
    "pycharm": {
     "name": "#%%\n"
    }
   }
  },
  {
   "cell_type": "code",
   "execution_count": 52,
   "outputs": [
    {
     "data": {
      "text/plain": "     2         2   \n- sin (x) + cos (x)",
      "image/png": "[encoded data removed]",
      "text/latex": "$\\displaystyle - \\sin^{2}{\\left(x \\right)} + \\cos^{2}{\\left(x \\right)}$"
     },
     "execution_count": 52,
     "metadata": {},
     "output_type": "execute_result"
    }
   ],
   "source": [
    "sp.Derivative(f, x, evaluate=True)"
   ],
   "metadata": {
    "collapsed": false,
    "pycharm": {
     "name": "#%%\n"
    }
   }
  },
  {
   "cell_type": "markdown",
   "source": [
    "### Procedimentos de Integração"
   ],
   "metadata": {
    "collapsed": false,
    "pycharm": {
     "name": "#%% md\n"
    }
   }
  },
  {
   "cell_type": "code",
   "execution_count": 53,
   "outputs": [],
   "source": [
    "def f(x): return sp.exp(sp.cos(x * 3 * pi )) + 1\n",
    "g = sp.exp(sp.cos(x * 3 * pi )) + 1"
   ],
   "metadata": {
    "collapsed": false,
    "pycharm": {
     "name": "#%%\n"
    }
   }
  },
  {
   "cell_type": "code",
   "execution_count": 54,
   "outputs": [
    {
     "data": {
      "text/plain": "(6.798197633256025, 8.784860485336701e-10)",
      "image/png": "[encoded data removed]",
      "text/latex": "$\\displaystyle \\left( 6.79819763325603, \\  8.7848604853367 \\cdot 10^{-10}\\right)$"
     },
     "execution_count": 54,
     "metadata": {},
     "output_type": "execute_result"
    }
   ],
   "source": [
    "sc.integrate.quad(f, 0, 3)"
   ],
   "metadata": {
    "collapsed": false,
    "pycharm": {
     "name": "#%%\n"
    }
   }
  },
  {
   "cell_type": "markdown",
   "source": [
    "### Equações diferenciais ordinárias"
   ],
   "metadata": {
    "collapsed": false,
    "pycharm": {
     "name": "#%% md\n"
    }
   },
   "outputs": [
    {
     "ename": "KeyboardInterrupt",
     "evalue": "",
     "output_type": "error",
     "traceback": [
      "\u001B[1;31m---------------------------------------------------------------------------\u001B[0m",
      "\u001B[1;31mKeyboardInterrupt\u001B[0m                         Traceback (most recent call last)",
      "Input \u001B[1;32mIn [36]\u001B[0m, in \u001B[0;36m<cell line: 1>\u001B[1;34m()\u001B[0m\n\u001B[1;32m----> 1\u001B[0m \u001B[43msp\u001B[49m\u001B[38;5;241;43m.\u001B[39;49m\u001B[43mintegrate\u001B[49m\u001B[43m(\u001B[49m\u001B[43mg\u001B[49m\u001B[43m,\u001B[49m\u001B[43m \u001B[49m\u001B[43m(\u001B[49m\u001B[43mx\u001B[49m\u001B[43m,\u001B[49m\u001B[43m \u001B[49m\u001B[38;5;241;43m0\u001B[39;49m\u001B[43m,\u001B[49m\u001B[43m \u001B[49m\u001B[38;5;241;43m3\u001B[39;49m\u001B[43m)\u001B[49m\u001B[43m)\u001B[49m\n",
      "File \u001B[1;32m~\\anaconda3\\envs\\modelagem_python\\lib\\site-packages\\sympy\\integrals\\integrals.py:1566\u001B[0m, in \u001B[0;36mintegrate\u001B[1;34m(meijerg, conds, risch, heurisch, manual, *args, **kwargs)\u001B[0m\n\u001B[0;32m   1563\u001B[0m integral \u001B[38;5;241m=\u001B[39m Integral(\u001B[38;5;241m*\u001B[39margs, \u001B[38;5;241m*\u001B[39m\u001B[38;5;241m*\u001B[39mkwargs)\n\u001B[0;32m   1565\u001B[0m \u001B[38;5;28;01mif\u001B[39;00m \u001B[38;5;28misinstance\u001B[39m(integral, Integral):\n\u001B[1;32m-> 1566\u001B[0m     \u001B[38;5;28;01mreturn\u001B[39;00m integral\u001B[38;5;241m.\u001B[39mdoit(\u001B[38;5;241m*\u001B[39m\u001B[38;5;241m*\u001B[39mdoit_flags)\n\u001B[0;32m   1567\u001B[0m \u001B[38;5;28;01melse\u001B[39;00m:\n\u001B[0;32m   1568\u001B[0m     new_args \u001B[38;5;241m=\u001B[39m [a\u001B[38;5;241m.\u001B[39mdoit(\u001B[38;5;241m*\u001B[39m\u001B[38;5;241m*\u001B[39mdoit_flags) \u001B[38;5;28;01mif\u001B[39;00m \u001B[38;5;28misinstance\u001B[39m(a, Integral) \u001B[38;5;28;01melse\u001B[39;00m a\n\u001B[0;32m   1569\u001B[0m         \u001B[38;5;28;01mfor\u001B[39;00m a \u001B[38;5;129;01min\u001B[39;00m integral\u001B[38;5;241m.\u001B[39margs]\n",
      "File \u001B[1;32m~\\anaconda3\\envs\\modelagem_python\\lib\\site-packages\\sympy\\integrals\\integrals.py:500\u001B[0m, in \u001B[0;36mIntegral.doit\u001B[1;34m(self, **hints)\u001B[0m\n\u001B[0;32m    498\u001B[0m \u001B[38;5;28;01mif\u001B[39;00m reps:\n\u001B[0;32m    499\u001B[0m     undo \u001B[38;5;241m=\u001B[39m {v: k \u001B[38;5;28;01mfor\u001B[39;00m k, v \u001B[38;5;129;01min\u001B[39;00m reps\u001B[38;5;241m.\u001B[39mitems()}\n\u001B[1;32m--> 500\u001B[0m     did \u001B[38;5;241m=\u001B[39m \u001B[38;5;28mself\u001B[39m\u001B[38;5;241m.\u001B[39mxreplace(reps)\u001B[38;5;241m.\u001B[39mdoit(\u001B[38;5;241m*\u001B[39m\u001B[38;5;241m*\u001B[39mhints)\n\u001B[0;32m    501\u001B[0m     \u001B[38;5;28;01mif\u001B[39;00m \u001B[38;5;28misinstance\u001B[39m(did, \u001B[38;5;28mtuple\u001B[39m):  \u001B[38;5;66;03m# when separate=True\u001B[39;00m\n\u001B[0;32m    502\u001B[0m         did \u001B[38;5;241m=\u001B[39m \u001B[38;5;28mtuple\u001B[39m([i\u001B[38;5;241m.\u001B[39mxreplace(undo) \u001B[38;5;28;01mfor\u001B[39;00m i \u001B[38;5;129;01min\u001B[39;00m did])\n",
      "File \u001B[1;32m~\\anaconda3\\envs\\modelagem_python\\lib\\site-packages\\sympy\\integrals\\integrals.py:613\u001B[0m, in \u001B[0;36mIntegral.doit\u001B[1;34m(self, **hints)\u001B[0m\n\u001B[0;32m    611\u001B[0m     antideriv \u001B[38;5;241m=\u001B[39m \u001B[38;5;28;01mNone\u001B[39;00m\n\u001B[0;32m    612\u001B[0m \u001B[38;5;28;01melse\u001B[39;00m:\n\u001B[1;32m--> 613\u001B[0m     antideriv \u001B[38;5;241m=\u001B[39m \u001B[38;5;28mself\u001B[39m\u001B[38;5;241m.\u001B[39m_eval_integral(\n\u001B[0;32m    614\u001B[0m         function, xab[\u001B[38;5;241m0\u001B[39m], \u001B[38;5;241m*\u001B[39m\u001B[38;5;241m*\u001B[39meval_kwargs)\n\u001B[0;32m    615\u001B[0m     \u001B[38;5;28;01mif\u001B[39;00m antideriv \u001B[38;5;129;01mis\u001B[39;00m \u001B[38;5;28;01mNone\u001B[39;00m \u001B[38;5;129;01mand\u001B[39;00m meijerg \u001B[38;5;129;01mis\u001B[39;00m \u001B[38;5;28;01mTrue\u001B[39;00m:\n\u001B[0;32m    616\u001B[0m         ret \u001B[38;5;241m=\u001B[39m try_meijerg(function, xab)\n",
      "File \u001B[1;32m~\\anaconda3\\envs\\modelagem_python\\lib\\site-packages\\sympy\\integrals\\integrals.py:1084\u001B[0m, in \u001B[0;36mIntegral._eval_integral\u001B[1;34m(self, f, x, meijerg, risch, manual, heurisch, conds, final)\u001B[0m\n\u001B[0;32m   1082\u001B[0m \u001B[38;5;28;01mtry\u001B[39;00m:\n\u001B[0;32m   1083\u001B[0m     \u001B[38;5;28;01mif\u001B[39;00m conds \u001B[38;5;241m==\u001B[39m \u001B[38;5;124m'\u001B[39m\u001B[38;5;124mpiecewise\u001B[39m\u001B[38;5;124m'\u001B[39m:\n\u001B[1;32m-> 1084\u001B[0m         h \u001B[38;5;241m=\u001B[39m \u001B[43mheurisch_wrapper\u001B[49m\u001B[43m(\u001B[49m\u001B[43mg\u001B[49m\u001B[43m,\u001B[49m\u001B[43m \u001B[49m\u001B[43mx\u001B[49m\u001B[43m,\u001B[49m\u001B[43m \u001B[49m\u001B[43mhints\u001B[49m\u001B[38;5;241;43m=\u001B[39;49m\u001B[43m[\u001B[49m\u001B[43m]\u001B[49m\u001B[43m)\u001B[49m\n\u001B[0;32m   1085\u001B[0m     \u001B[38;5;28;01melse\u001B[39;00m:\n\u001B[0;32m   1086\u001B[0m         h \u001B[38;5;241m=\u001B[39m heurisch_(g, x, hints\u001B[38;5;241m=\u001B[39m[])\n",
      "File \u001B[1;32m~\\anaconda3\\envs\\modelagem_python\\lib\\site-packages\\sympy\\integrals\\heurisch.py:143\u001B[0m, in \u001B[0;36mheurisch_wrapper\u001B[1;34m(f, x, rewrite, hints, mappings, retries, degree_offset, unnecessary_permutations, _try_heurisch)\u001B[0m\n\u001B[0;32m    140\u001B[0m \u001B[38;5;28;01mif\u001B[39;00m \u001B[38;5;129;01mnot\u001B[39;00m f\u001B[38;5;241m.\u001B[39mhas_free(x):\n\u001B[0;32m    141\u001B[0m     \u001B[38;5;28;01mreturn\u001B[39;00m f\u001B[38;5;241m*\u001B[39mx\n\u001B[1;32m--> 143\u001B[0m res \u001B[38;5;241m=\u001B[39m \u001B[43mheurisch\u001B[49m\u001B[43m(\u001B[49m\u001B[43mf\u001B[49m\u001B[43m,\u001B[49m\u001B[43m \u001B[49m\u001B[43mx\u001B[49m\u001B[43m,\u001B[49m\u001B[43m \u001B[49m\u001B[43mrewrite\u001B[49m\u001B[43m,\u001B[49m\u001B[43m \u001B[49m\u001B[43mhints\u001B[49m\u001B[43m,\u001B[49m\u001B[43m \u001B[49m\u001B[43mmappings\u001B[49m\u001B[43m,\u001B[49m\u001B[43m \u001B[49m\u001B[43mretries\u001B[49m\u001B[43m,\u001B[49m\u001B[43m \u001B[49m\u001B[43mdegree_offset\u001B[49m\u001B[43m,\u001B[49m\n\u001B[0;32m    144\u001B[0m \u001B[43m               \u001B[49m\u001B[43munnecessary_permutations\u001B[49m\u001B[43m,\u001B[49m\u001B[43m \u001B[49m\u001B[43m_try_heurisch\u001B[49m\u001B[43m)\u001B[49m\n\u001B[0;32m    145\u001B[0m \u001B[38;5;28;01mif\u001B[39;00m \u001B[38;5;129;01mnot\u001B[39;00m \u001B[38;5;28misinstance\u001B[39m(res, Basic):\n\u001B[0;32m    146\u001B[0m     \u001B[38;5;28;01mreturn\u001B[39;00m res\n",
      "File \u001B[1;32m~\\anaconda3\\envs\\modelagem_python\\lib\\site-packages\\sympy\\integrals\\heurisch.py:750\u001B[0m, in \u001B[0;36mheurisch\u001B[1;34m(f, x, rewrite, hints, mappings, retries, degree_offset, unnecessary_permutations, _try_heurisch)\u001B[0m\n\u001B[0;32m    748\u001B[0m \u001B[38;5;28;01melse\u001B[39;00m:\n\u001B[0;32m    749\u001B[0m     \u001B[38;5;28;01mif\u001B[39;00m retries \u001B[38;5;241m>\u001B[39m\u001B[38;5;241m=\u001B[39m \u001B[38;5;241m0\u001B[39m:\n\u001B[1;32m--> 750\u001B[0m         result \u001B[38;5;241m=\u001B[39m \u001B[43mheurisch\u001B[49m\u001B[43m(\u001B[49m\u001B[43mf\u001B[49m\u001B[43m,\u001B[49m\u001B[43m \u001B[49m\u001B[43mx\u001B[49m\u001B[43m,\u001B[49m\u001B[43m \u001B[49m\u001B[43mmappings\u001B[49m\u001B[38;5;241;43m=\u001B[39;49m\u001B[43mmappings\u001B[49m\u001B[43m,\u001B[49m\u001B[43m \u001B[49m\u001B[43mrewrite\u001B[49m\u001B[38;5;241;43m=\u001B[39;49m\u001B[43mrewrite\u001B[49m\u001B[43m,\u001B[49m\u001B[43m \u001B[49m\u001B[43mhints\u001B[49m\u001B[38;5;241;43m=\u001B[39;49m\u001B[43mhints\u001B[49m\u001B[43m,\u001B[49m\u001B[43m \u001B[49m\u001B[43mretries\u001B[49m\u001B[38;5;241;43m=\u001B[39;49m\u001B[43mretries\u001B[49m\u001B[43m \u001B[49m\u001B[38;5;241;43m-\u001B[39;49m\u001B[43m \u001B[49m\u001B[38;5;241;43m1\u001B[39;49m\u001B[43m,\u001B[49m\u001B[43m \u001B[49m\u001B[43munnecessary_permutations\u001B[49m\u001B[38;5;241;43m=\u001B[39;49m\u001B[43munnecessary_permutations\u001B[49m\u001B[43m)\u001B[49m\n\u001B[0;32m    752\u001B[0m         \u001B[38;5;28;01mif\u001B[39;00m result \u001B[38;5;129;01mis\u001B[39;00m \u001B[38;5;129;01mnot\u001B[39;00m \u001B[38;5;28;01mNone\u001B[39;00m:\n\u001B[0;32m    753\u001B[0m             \u001B[38;5;28;01mreturn\u001B[39;00m indep\u001B[38;5;241m*\u001B[39mresult\n",
      "File \u001B[1;32m~\\anaconda3\\envs\\modelagem_python\\lib\\site-packages\\sympy\\integrals\\heurisch.py:750\u001B[0m, in \u001B[0;36mheurisch\u001B[1;34m(f, x, rewrite, hints, mappings, retries, degree_offset, unnecessary_permutations, _try_heurisch)\u001B[0m\n\u001B[0;32m    748\u001B[0m \u001B[38;5;28;01melse\u001B[39;00m:\n\u001B[0;32m    749\u001B[0m     \u001B[38;5;28;01mif\u001B[39;00m retries \u001B[38;5;241m>\u001B[39m\u001B[38;5;241m=\u001B[39m \u001B[38;5;241m0\u001B[39m:\n\u001B[1;32m--> 750\u001B[0m         result \u001B[38;5;241m=\u001B[39m \u001B[43mheurisch\u001B[49m\u001B[43m(\u001B[49m\u001B[43mf\u001B[49m\u001B[43m,\u001B[49m\u001B[43m \u001B[49m\u001B[43mx\u001B[49m\u001B[43m,\u001B[49m\u001B[43m \u001B[49m\u001B[43mmappings\u001B[49m\u001B[38;5;241;43m=\u001B[39;49m\u001B[43mmappings\u001B[49m\u001B[43m,\u001B[49m\u001B[43m \u001B[49m\u001B[43mrewrite\u001B[49m\u001B[38;5;241;43m=\u001B[39;49m\u001B[43mrewrite\u001B[49m\u001B[43m,\u001B[49m\u001B[43m \u001B[49m\u001B[43mhints\u001B[49m\u001B[38;5;241;43m=\u001B[39;49m\u001B[43mhints\u001B[49m\u001B[43m,\u001B[49m\u001B[43m \u001B[49m\u001B[43mretries\u001B[49m\u001B[38;5;241;43m=\u001B[39;49m\u001B[43mretries\u001B[49m\u001B[43m \u001B[49m\u001B[38;5;241;43m-\u001B[39;49m\u001B[43m \u001B[49m\u001B[38;5;241;43m1\u001B[39;49m\u001B[43m,\u001B[49m\u001B[43m \u001B[49m\u001B[43munnecessary_permutations\u001B[49m\u001B[38;5;241;43m=\u001B[39;49m\u001B[43munnecessary_permutations\u001B[49m\u001B[43m)\u001B[49m\n\u001B[0;32m    752\u001B[0m         \u001B[38;5;28;01mif\u001B[39;00m result \u001B[38;5;129;01mis\u001B[39;00m \u001B[38;5;129;01mnot\u001B[39;00m \u001B[38;5;28;01mNone\u001B[39;00m:\n\u001B[0;32m    753\u001B[0m             \u001B[38;5;28;01mreturn\u001B[39;00m indep\u001B[38;5;241m*\u001B[39mresult\n",
      "File \u001B[1;32m~\\anaconda3\\envs\\modelagem_python\\lib\\site-packages\\sympy\\integrals\\heurisch.py:750\u001B[0m, in \u001B[0;36mheurisch\u001B[1;34m(f, x, rewrite, hints, mappings, retries, degree_offset, unnecessary_permutations, _try_heurisch)\u001B[0m\n\u001B[0;32m    748\u001B[0m \u001B[38;5;28;01melse\u001B[39;00m:\n\u001B[0;32m    749\u001B[0m     \u001B[38;5;28;01mif\u001B[39;00m retries \u001B[38;5;241m>\u001B[39m\u001B[38;5;241m=\u001B[39m \u001B[38;5;241m0\u001B[39m:\n\u001B[1;32m--> 750\u001B[0m         result \u001B[38;5;241m=\u001B[39m \u001B[43mheurisch\u001B[49m\u001B[43m(\u001B[49m\u001B[43mf\u001B[49m\u001B[43m,\u001B[49m\u001B[43m \u001B[49m\u001B[43mx\u001B[49m\u001B[43m,\u001B[49m\u001B[43m \u001B[49m\u001B[43mmappings\u001B[49m\u001B[38;5;241;43m=\u001B[39;49m\u001B[43mmappings\u001B[49m\u001B[43m,\u001B[49m\u001B[43m \u001B[49m\u001B[43mrewrite\u001B[49m\u001B[38;5;241;43m=\u001B[39;49m\u001B[43mrewrite\u001B[49m\u001B[43m,\u001B[49m\u001B[43m \u001B[49m\u001B[43mhints\u001B[49m\u001B[38;5;241;43m=\u001B[39;49m\u001B[43mhints\u001B[49m\u001B[43m,\u001B[49m\u001B[43m \u001B[49m\u001B[43mretries\u001B[49m\u001B[38;5;241;43m=\u001B[39;49m\u001B[43mretries\u001B[49m\u001B[43m \u001B[49m\u001B[38;5;241;43m-\u001B[39;49m\u001B[43m \u001B[49m\u001B[38;5;241;43m1\u001B[39;49m\u001B[43m,\u001B[49m\u001B[43m \u001B[49m\u001B[43munnecessary_permutations\u001B[49m\u001B[38;5;241;43m=\u001B[39;49m\u001B[43munnecessary_permutations\u001B[49m\u001B[43m)\u001B[49m\n\u001B[0;32m    752\u001B[0m         \u001B[38;5;28;01mif\u001B[39;00m result \u001B[38;5;129;01mis\u001B[39;00m \u001B[38;5;129;01mnot\u001B[39;00m \u001B[38;5;28;01mNone\u001B[39;00m:\n\u001B[0;32m    753\u001B[0m             \u001B[38;5;28;01mreturn\u001B[39;00m indep\u001B[38;5;241m*\u001B[39mresult\n",
      "File \u001B[1;32m~\\anaconda3\\envs\\modelagem_python\\lib\\site-packages\\sympy\\integrals\\heurisch.py:507\u001B[0m, in \u001B[0;36mheurisch\u001B[1;34m(f, x, rewrite, hints, mappings, retries, degree_offset, unnecessary_permutations, _try_heurisch)\u001B[0m\n\u001B[0;32m    505\u001B[0m \u001B[38;5;28;01melse\u001B[39;00m:\n\u001B[0;32m    506\u001B[0m     \u001B[38;5;28;01mif\u001B[39;00m \u001B[38;5;129;01mnot\u001B[39;00m rewrite:\n\u001B[1;32m--> 507\u001B[0m         result \u001B[38;5;241m=\u001B[39m \u001B[43mheurisch\u001B[49m\u001B[43m(\u001B[49m\u001B[43mf\u001B[49m\u001B[43m,\u001B[49m\u001B[43m \u001B[49m\u001B[43mx\u001B[49m\u001B[43m,\u001B[49m\u001B[43m \u001B[49m\u001B[43mrewrite\u001B[49m\u001B[38;5;241;43m=\u001B[39;49m\u001B[38;5;28;43;01mTrue\u001B[39;49;00m\u001B[43m,\u001B[49m\u001B[43m \u001B[49m\u001B[43mhints\u001B[49m\u001B[38;5;241;43m=\u001B[39;49m\u001B[43mhints\u001B[49m\u001B[43m,\u001B[49m\n\u001B[0;32m    508\u001B[0m \u001B[43m            \u001B[49m\u001B[43munnecessary_permutations\u001B[49m\u001B[38;5;241;43m=\u001B[39;49m\u001B[43munnecessary_permutations\u001B[49m\u001B[43m)\u001B[49m\n\u001B[0;32m    510\u001B[0m         \u001B[38;5;28;01mif\u001B[39;00m result \u001B[38;5;129;01mis\u001B[39;00m \u001B[38;5;129;01mnot\u001B[39;00m \u001B[38;5;28;01mNone\u001B[39;00m:\n\u001B[0;32m    511\u001B[0m             \u001B[38;5;28;01mreturn\u001B[39;00m indep\u001B[38;5;241m*\u001B[39mresult\n",
      "File \u001B[1;32m~\\anaconda3\\envs\\modelagem_python\\lib\\site-packages\\sympy\\integrals\\heurisch.py:750\u001B[0m, in \u001B[0;36mheurisch\u001B[1;34m(f, x, rewrite, hints, mappings, retries, degree_offset, unnecessary_permutations, _try_heurisch)\u001B[0m\n\u001B[0;32m    748\u001B[0m \u001B[38;5;28;01melse\u001B[39;00m:\n\u001B[0;32m    749\u001B[0m     \u001B[38;5;28;01mif\u001B[39;00m retries \u001B[38;5;241m>\u001B[39m\u001B[38;5;241m=\u001B[39m \u001B[38;5;241m0\u001B[39m:\n\u001B[1;32m--> 750\u001B[0m         result \u001B[38;5;241m=\u001B[39m \u001B[43mheurisch\u001B[49m\u001B[43m(\u001B[49m\u001B[43mf\u001B[49m\u001B[43m,\u001B[49m\u001B[43m \u001B[49m\u001B[43mx\u001B[49m\u001B[43m,\u001B[49m\u001B[43m \u001B[49m\u001B[43mmappings\u001B[49m\u001B[38;5;241;43m=\u001B[39;49m\u001B[43mmappings\u001B[49m\u001B[43m,\u001B[49m\u001B[43m \u001B[49m\u001B[43mrewrite\u001B[49m\u001B[38;5;241;43m=\u001B[39;49m\u001B[43mrewrite\u001B[49m\u001B[43m,\u001B[49m\u001B[43m \u001B[49m\u001B[43mhints\u001B[49m\u001B[38;5;241;43m=\u001B[39;49m\u001B[43mhints\u001B[49m\u001B[43m,\u001B[49m\u001B[43m \u001B[49m\u001B[43mretries\u001B[49m\u001B[38;5;241;43m=\u001B[39;49m\u001B[43mretries\u001B[49m\u001B[43m \u001B[49m\u001B[38;5;241;43m-\u001B[39;49m\u001B[43m \u001B[49m\u001B[38;5;241;43m1\u001B[39;49m\u001B[43m,\u001B[49m\u001B[43m \u001B[49m\u001B[43munnecessary_permutations\u001B[49m\u001B[38;5;241;43m=\u001B[39;49m\u001B[43munnecessary_permutations\u001B[49m\u001B[43m)\u001B[49m\n\u001B[0;32m    752\u001B[0m         \u001B[38;5;28;01mif\u001B[39;00m result \u001B[38;5;129;01mis\u001B[39;00m \u001B[38;5;129;01mnot\u001B[39;00m \u001B[38;5;28;01mNone\u001B[39;00m:\n\u001B[0;32m    753\u001B[0m             \u001B[38;5;28;01mreturn\u001B[39;00m indep\u001B[38;5;241m*\u001B[39mresult\n",
      "File \u001B[1;32m~\\anaconda3\\envs\\modelagem_python\\lib\\site-packages\\sympy\\integrals\\heurisch.py:750\u001B[0m, in \u001B[0;36mheurisch\u001B[1;34m(f, x, rewrite, hints, mappings, retries, degree_offset, unnecessary_permutations, _try_heurisch)\u001B[0m\n\u001B[0;32m    748\u001B[0m \u001B[38;5;28;01melse\u001B[39;00m:\n\u001B[0;32m    749\u001B[0m     \u001B[38;5;28;01mif\u001B[39;00m retries \u001B[38;5;241m>\u001B[39m\u001B[38;5;241m=\u001B[39m \u001B[38;5;241m0\u001B[39m:\n\u001B[1;32m--> 750\u001B[0m         result \u001B[38;5;241m=\u001B[39m \u001B[43mheurisch\u001B[49m\u001B[43m(\u001B[49m\u001B[43mf\u001B[49m\u001B[43m,\u001B[49m\u001B[43m \u001B[49m\u001B[43mx\u001B[49m\u001B[43m,\u001B[49m\u001B[43m \u001B[49m\u001B[43mmappings\u001B[49m\u001B[38;5;241;43m=\u001B[39;49m\u001B[43mmappings\u001B[49m\u001B[43m,\u001B[49m\u001B[43m \u001B[49m\u001B[43mrewrite\u001B[49m\u001B[38;5;241;43m=\u001B[39;49m\u001B[43mrewrite\u001B[49m\u001B[43m,\u001B[49m\u001B[43m \u001B[49m\u001B[43mhints\u001B[49m\u001B[38;5;241;43m=\u001B[39;49m\u001B[43mhints\u001B[49m\u001B[43m,\u001B[49m\u001B[43m \u001B[49m\u001B[43mretries\u001B[49m\u001B[38;5;241;43m=\u001B[39;49m\u001B[43mretries\u001B[49m\u001B[43m \u001B[49m\u001B[38;5;241;43m-\u001B[39;49m\u001B[43m \u001B[49m\u001B[38;5;241;43m1\u001B[39;49m\u001B[43m,\u001B[49m\u001B[43m \u001B[49m\u001B[43munnecessary_permutations\u001B[49m\u001B[38;5;241;43m=\u001B[39;49m\u001B[43munnecessary_permutations\u001B[49m\u001B[43m)\u001B[49m\n\u001B[0;32m    752\u001B[0m         \u001B[38;5;28;01mif\u001B[39;00m result \u001B[38;5;129;01mis\u001B[39;00m \u001B[38;5;129;01mnot\u001B[39;00m \u001B[38;5;28;01mNone\u001B[39;00m:\n\u001B[0;32m    753\u001B[0m             \u001B[38;5;28;01mreturn\u001B[39;00m indep\u001B[38;5;241m*\u001B[39mresult\n",
      "File \u001B[1;32m~\\anaconda3\\envs\\modelagem_python\\lib\\site-packages\\sympy\\integrals\\heurisch.py:750\u001B[0m, in \u001B[0;36mheurisch\u001B[1;34m(f, x, rewrite, hints, mappings, retries, degree_offset, unnecessary_permutations, _try_heurisch)\u001B[0m\n\u001B[0;32m    748\u001B[0m \u001B[38;5;28;01melse\u001B[39;00m:\n\u001B[0;32m    749\u001B[0m     \u001B[38;5;28;01mif\u001B[39;00m retries \u001B[38;5;241m>\u001B[39m\u001B[38;5;241m=\u001B[39m \u001B[38;5;241m0\u001B[39m:\n\u001B[1;32m--> 750\u001B[0m         result \u001B[38;5;241m=\u001B[39m \u001B[43mheurisch\u001B[49m\u001B[43m(\u001B[49m\u001B[43mf\u001B[49m\u001B[43m,\u001B[49m\u001B[43m \u001B[49m\u001B[43mx\u001B[49m\u001B[43m,\u001B[49m\u001B[43m \u001B[49m\u001B[43mmappings\u001B[49m\u001B[38;5;241;43m=\u001B[39;49m\u001B[43mmappings\u001B[49m\u001B[43m,\u001B[49m\u001B[43m \u001B[49m\u001B[43mrewrite\u001B[49m\u001B[38;5;241;43m=\u001B[39;49m\u001B[43mrewrite\u001B[49m\u001B[43m,\u001B[49m\u001B[43m \u001B[49m\u001B[43mhints\u001B[49m\u001B[38;5;241;43m=\u001B[39;49m\u001B[43mhints\u001B[49m\u001B[43m,\u001B[49m\u001B[43m \u001B[49m\u001B[43mretries\u001B[49m\u001B[38;5;241;43m=\u001B[39;49m\u001B[43mretries\u001B[49m\u001B[43m \u001B[49m\u001B[38;5;241;43m-\u001B[39;49m\u001B[43m \u001B[49m\u001B[38;5;241;43m1\u001B[39;49m\u001B[43m,\u001B[49m\u001B[43m \u001B[49m\u001B[43munnecessary_permutations\u001B[49m\u001B[38;5;241;43m=\u001B[39;49m\u001B[43munnecessary_permutations\u001B[49m\u001B[43m)\u001B[49m\n\u001B[0;32m    752\u001B[0m         \u001B[38;5;28;01mif\u001B[39;00m result \u001B[38;5;129;01mis\u001B[39;00m \u001B[38;5;129;01mnot\u001B[39;00m \u001B[38;5;28;01mNone\u001B[39;00m:\n\u001B[0;32m    753\u001B[0m             \u001B[38;5;28;01mreturn\u001B[39;00m indep\u001B[38;5;241m*\u001B[39mresult\n",
      "File \u001B[1;32m~\\anaconda3\\envs\\modelagem_python\\lib\\site-packages\\sympy\\integrals\\heurisch.py:736\u001B[0m, in \u001B[0;36mheurisch\u001B[1;34m(f, x, rewrite, hints, mappings, retries, degree_offset, unnecessary_permutations, _try_heurisch)\u001B[0m\n\u001B[0;32m    733\u001B[0m     solution \u001B[38;5;241m=\u001B[39m _integrate(\u001B[38;5;124m'\u001B[39m\u001B[38;5;124mQ\u001B[39m\u001B[38;5;124m'\u001B[39m)\n\u001B[0;32m    735\u001B[0m     \u001B[38;5;28;01mif\u001B[39;00m solution \u001B[38;5;129;01mis\u001B[39;00m \u001B[38;5;28;01mNone\u001B[39;00m:\n\u001B[1;32m--> 736\u001B[0m         solution \u001B[38;5;241m=\u001B[39m \u001B[43m_integrate\u001B[49m\u001B[43m(\u001B[49m\u001B[43m)\u001B[49m\n\u001B[0;32m    737\u001B[0m \u001B[38;5;28;01melse\u001B[39;00m:\n\u001B[0;32m    738\u001B[0m     solution \u001B[38;5;241m=\u001B[39m _integrate()\n",
      "File \u001B[1;32m~\\anaconda3\\envs\\modelagem_python\\lib\\site-packages\\sympy\\integrals\\heurisch.py:714\u001B[0m, in \u001B[0;36mheurisch.<locals>._integrate\u001B[1;34m(field)\u001B[0m\n\u001B[0;32m    712\u001B[0m ring \u001B[38;5;241m=\u001B[39m PolyRing(V, coeff_ring)\n\u001B[0;32m    713\u001B[0m \u001B[38;5;28;01mtry\u001B[39;00m:\n\u001B[1;32m--> 714\u001B[0m     numer \u001B[38;5;241m=\u001B[39m \u001B[43mring\u001B[49m\u001B[38;5;241;43m.\u001B[39;49m\u001B[43mfrom_expr\u001B[49m\u001B[43m(\u001B[49m\u001B[43mraw_numer\u001B[49m\u001B[43m)\u001B[49m\n\u001B[0;32m    715\u001B[0m \u001B[38;5;28;01mexcept\u001B[39;00m \u001B[38;5;167;01mValueError\u001B[39;00m:\n\u001B[0;32m    716\u001B[0m     \u001B[38;5;28;01mraise\u001B[39;00m PolynomialError\n",
      "File \u001B[1;32m~\\anaconda3\\envs\\modelagem_python\\lib\\site-packages\\sympy\\polys\\rings.py:397\u001B[0m, in \u001B[0;36mPolyRing.from_expr\u001B[1;34m(self, expr)\u001B[0m\n\u001B[0;32m    394\u001B[0m mapping \u001B[38;5;241m=\u001B[39m \u001B[38;5;28mdict\u001B[39m(\u001B[38;5;28mlist\u001B[39m(\u001B[38;5;28mzip\u001B[39m(\u001B[38;5;28mself\u001B[39m\u001B[38;5;241m.\u001B[39msymbols, \u001B[38;5;28mself\u001B[39m\u001B[38;5;241m.\u001B[39mgens)))\n\u001B[0;32m    396\u001B[0m \u001B[38;5;28;01mtry\u001B[39;00m:\n\u001B[1;32m--> 397\u001B[0m     poly \u001B[38;5;241m=\u001B[39m \u001B[38;5;28;43mself\u001B[39;49m\u001B[38;5;241;43m.\u001B[39;49m\u001B[43m_rebuild_expr\u001B[49m\u001B[43m(\u001B[49m\u001B[43mexpr\u001B[49m\u001B[43m,\u001B[49m\u001B[43m \u001B[49m\u001B[43mmapping\u001B[49m\u001B[43m)\u001B[49m\n\u001B[0;32m    398\u001B[0m \u001B[38;5;28;01mexcept\u001B[39;00m CoercionFailed:\n\u001B[0;32m    399\u001B[0m     \u001B[38;5;28;01mraise\u001B[39;00m \u001B[38;5;167;01mValueError\u001B[39;00m(\u001B[38;5;124m\"\u001B[39m\u001B[38;5;124mexpected an expression convertible to a polynomial in \u001B[39m\u001B[38;5;132;01m%s\u001B[39;00m\u001B[38;5;124m, got \u001B[39m\u001B[38;5;132;01m%s\u001B[39;00m\u001B[38;5;124m\"\u001B[39m \u001B[38;5;241m%\u001B[39m (\u001B[38;5;28mself\u001B[39m, expr))\n",
      "File \u001B[1;32m~\\anaconda3\\envs\\modelagem_python\\lib\\site-packages\\sympy\\polys\\rings.py:391\u001B[0m, in \u001B[0;36mPolyRing._rebuild_expr\u001B[1;34m(self, expr, mapping)\u001B[0m\n\u001B[0;32m    388\u001B[0m         \u001B[38;5;28;01melse\u001B[39;00m:\n\u001B[0;32m    389\u001B[0m             \u001B[38;5;28;01mreturn\u001B[39;00m \u001B[38;5;28mself\u001B[39m\u001B[38;5;241m.\u001B[39mground_new(domain\u001B[38;5;241m.\u001B[39mconvert(expr))\n\u001B[1;32m--> 391\u001B[0m \u001B[38;5;28;01mreturn\u001B[39;00m \u001B[43m_rebuild\u001B[49m\u001B[43m(\u001B[49m\u001B[43msympify\u001B[49m\u001B[43m(\u001B[49m\u001B[43mexpr\u001B[49m\u001B[43m)\u001B[49m\u001B[43m)\u001B[49m\n",
      "File \u001B[1;32m~\\anaconda3\\envs\\modelagem_python\\lib\\site-packages\\sympy\\polys\\rings.py:379\u001B[0m, in \u001B[0;36mPolyRing._rebuild_expr.<locals>._rebuild\u001B[1;34m(expr)\u001B[0m\n\u001B[0;32m    377\u001B[0m     \u001B[38;5;28;01mreturn\u001B[39;00m generator\n\u001B[0;32m    378\u001B[0m \u001B[38;5;28;01melif\u001B[39;00m expr\u001B[38;5;241m.\u001B[39mis_Add:\n\u001B[1;32m--> 379\u001B[0m     \u001B[38;5;28;01mreturn\u001B[39;00m reduce(add, \u001B[38;5;28;43mlist\u001B[39;49m\u001B[43m(\u001B[49m\u001B[38;5;28;43mmap\u001B[39;49m\u001B[43m(\u001B[49m\u001B[43m_rebuild\u001B[49m\u001B[43m,\u001B[49m\u001B[43m \u001B[49m\u001B[43mexpr\u001B[49m\u001B[38;5;241;43m.\u001B[39;49m\u001B[43margs\u001B[49m\u001B[43m)\u001B[49m\u001B[43m)\u001B[49m)\n\u001B[0;32m    380\u001B[0m \u001B[38;5;28;01melif\u001B[39;00m expr\u001B[38;5;241m.\u001B[39mis_Mul:\n\u001B[0;32m    381\u001B[0m     \u001B[38;5;28;01mreturn\u001B[39;00m reduce(mul, \u001B[38;5;28mlist\u001B[39m(\u001B[38;5;28mmap\u001B[39m(_rebuild, expr\u001B[38;5;241m.\u001B[39margs)))\n",
      "File \u001B[1;32m~\\anaconda3\\envs\\modelagem_python\\lib\\site-packages\\sympy\\polys\\rings.py:381\u001B[0m, in \u001B[0;36mPolyRing._rebuild_expr.<locals>._rebuild\u001B[1;34m(expr)\u001B[0m\n\u001B[0;32m    379\u001B[0m     \u001B[38;5;28;01mreturn\u001B[39;00m reduce(add, \u001B[38;5;28mlist\u001B[39m(\u001B[38;5;28mmap\u001B[39m(_rebuild, expr\u001B[38;5;241m.\u001B[39margs)))\n\u001B[0;32m    380\u001B[0m \u001B[38;5;28;01melif\u001B[39;00m expr\u001B[38;5;241m.\u001B[39mis_Mul:\n\u001B[1;32m--> 381\u001B[0m     \u001B[38;5;28;01mreturn\u001B[39;00m reduce(mul, \u001B[38;5;28;43mlist\u001B[39;49m\u001B[43m(\u001B[49m\u001B[38;5;28;43mmap\u001B[39;49m\u001B[43m(\u001B[49m\u001B[43m_rebuild\u001B[49m\u001B[43m,\u001B[49m\u001B[43m \u001B[49m\u001B[43mexpr\u001B[49m\u001B[38;5;241;43m.\u001B[39;49m\u001B[43margs\u001B[49m\u001B[43m)\u001B[49m\u001B[43m)\u001B[49m)\n\u001B[0;32m    382\u001B[0m \u001B[38;5;28;01melse\u001B[39;00m:\n\u001B[0;32m    383\u001B[0m     \u001B[38;5;66;03m# XXX: Use as_base_exp() to handle Pow(x, n) and also exp(n)\u001B[39;00m\n\u001B[0;32m    384\u001B[0m     \u001B[38;5;66;03m# XXX: E can be a generator e.g. sring([exp(2)]) -> ZZ[E]\u001B[39;00m\n\u001B[0;32m    385\u001B[0m     base, exp \u001B[38;5;241m=\u001B[39m expr\u001B[38;5;241m.\u001B[39mas_base_exp()\n",
      "File \u001B[1;32m~\\anaconda3\\envs\\modelagem_python\\lib\\site-packages\\sympy\\polys\\rings.py:379\u001B[0m, in \u001B[0;36mPolyRing._rebuild_expr.<locals>._rebuild\u001B[1;34m(expr)\u001B[0m\n\u001B[0;32m    377\u001B[0m     \u001B[38;5;28;01mreturn\u001B[39;00m generator\n\u001B[0;32m    378\u001B[0m \u001B[38;5;28;01melif\u001B[39;00m expr\u001B[38;5;241m.\u001B[39mis_Add:\n\u001B[1;32m--> 379\u001B[0m     \u001B[38;5;28;01mreturn\u001B[39;00m reduce(add, \u001B[38;5;28;43mlist\u001B[39;49m\u001B[43m(\u001B[49m\u001B[38;5;28;43mmap\u001B[39;49m\u001B[43m(\u001B[49m\u001B[43m_rebuild\u001B[49m\u001B[43m,\u001B[49m\u001B[43m \u001B[49m\u001B[43mexpr\u001B[49m\u001B[38;5;241;43m.\u001B[39;49m\u001B[43margs\u001B[49m\u001B[43m)\u001B[49m\u001B[43m)\u001B[49m)\n\u001B[0;32m    380\u001B[0m \u001B[38;5;28;01melif\u001B[39;00m expr\u001B[38;5;241m.\u001B[39mis_Mul:\n\u001B[0;32m    381\u001B[0m     \u001B[38;5;28;01mreturn\u001B[39;00m reduce(mul, \u001B[38;5;28mlist\u001B[39m(\u001B[38;5;28mmap\u001B[39m(_rebuild, expr\u001B[38;5;241m.\u001B[39margs)))\n",
      "File \u001B[1;32m~\\anaconda3\\envs\\modelagem_python\\lib\\site-packages\\sympy\\polys\\rings.py:381\u001B[0m, in \u001B[0;36mPolyRing._rebuild_expr.<locals>._rebuild\u001B[1;34m(expr)\u001B[0m\n\u001B[0;32m    379\u001B[0m     \u001B[38;5;28;01mreturn\u001B[39;00m reduce(add, \u001B[38;5;28mlist\u001B[39m(\u001B[38;5;28mmap\u001B[39m(_rebuild, expr\u001B[38;5;241m.\u001B[39margs)))\n\u001B[0;32m    380\u001B[0m \u001B[38;5;28;01melif\u001B[39;00m expr\u001B[38;5;241m.\u001B[39mis_Mul:\n\u001B[1;32m--> 381\u001B[0m     \u001B[38;5;28;01mreturn\u001B[39;00m reduce(mul, \u001B[38;5;28;43mlist\u001B[39;49m\u001B[43m(\u001B[49m\u001B[38;5;28;43mmap\u001B[39;49m\u001B[43m(\u001B[49m\u001B[43m_rebuild\u001B[49m\u001B[43m,\u001B[49m\u001B[43m \u001B[49m\u001B[43mexpr\u001B[49m\u001B[38;5;241;43m.\u001B[39;49m\u001B[43margs\u001B[49m\u001B[43m)\u001B[49m\u001B[43m)\u001B[49m)\n\u001B[0;32m    382\u001B[0m \u001B[38;5;28;01melse\u001B[39;00m:\n\u001B[0;32m    383\u001B[0m     \u001B[38;5;66;03m# XXX: Use as_base_exp() to handle Pow(x, n) and also exp(n)\u001B[39;00m\n\u001B[0;32m    384\u001B[0m     \u001B[38;5;66;03m# XXX: E can be a generator e.g. sring([exp(2)]) -> ZZ[E]\u001B[39;00m\n\u001B[0;32m    385\u001B[0m     base, exp \u001B[38;5;241m=\u001B[39m expr\u001B[38;5;241m.\u001B[39mas_base_exp()\n",
      "File \u001B[1;32m~\\anaconda3\\envs\\modelagem_python\\lib\\site-packages\\sympy\\polys\\rings.py:379\u001B[0m, in \u001B[0;36mPolyRing._rebuild_expr.<locals>._rebuild\u001B[1;34m(expr)\u001B[0m\n\u001B[0;32m    377\u001B[0m     \u001B[38;5;28;01mreturn\u001B[39;00m generator\n\u001B[0;32m    378\u001B[0m \u001B[38;5;28;01melif\u001B[39;00m expr\u001B[38;5;241m.\u001B[39mis_Add:\n\u001B[1;32m--> 379\u001B[0m     \u001B[38;5;28;01mreturn\u001B[39;00m reduce(add, \u001B[38;5;28;43mlist\u001B[39;49m\u001B[43m(\u001B[49m\u001B[38;5;28;43mmap\u001B[39;49m\u001B[43m(\u001B[49m\u001B[43m_rebuild\u001B[49m\u001B[43m,\u001B[49m\u001B[43m \u001B[49m\u001B[43mexpr\u001B[49m\u001B[38;5;241;43m.\u001B[39;49m\u001B[43margs\u001B[49m\u001B[43m)\u001B[49m\u001B[43m)\u001B[49m)\n\u001B[0;32m    380\u001B[0m \u001B[38;5;28;01melif\u001B[39;00m expr\u001B[38;5;241m.\u001B[39mis_Mul:\n\u001B[0;32m    381\u001B[0m     \u001B[38;5;28;01mreturn\u001B[39;00m reduce(mul, \u001B[38;5;28mlist\u001B[39m(\u001B[38;5;28mmap\u001B[39m(_rebuild, expr\u001B[38;5;241m.\u001B[39margs)))\n",
      "File \u001B[1;32m~\\anaconda3\\envs\\modelagem_python\\lib\\site-packages\\sympy\\polys\\rings.py:381\u001B[0m, in \u001B[0;36mPolyRing._rebuild_expr.<locals>._rebuild\u001B[1;34m(expr)\u001B[0m\n\u001B[0;32m    379\u001B[0m     \u001B[38;5;28;01mreturn\u001B[39;00m reduce(add, \u001B[38;5;28mlist\u001B[39m(\u001B[38;5;28mmap\u001B[39m(_rebuild, expr\u001B[38;5;241m.\u001B[39margs)))\n\u001B[0;32m    380\u001B[0m \u001B[38;5;28;01melif\u001B[39;00m expr\u001B[38;5;241m.\u001B[39mis_Mul:\n\u001B[1;32m--> 381\u001B[0m     \u001B[38;5;28;01mreturn\u001B[39;00m reduce(mul, \u001B[38;5;28;43mlist\u001B[39;49m\u001B[43m(\u001B[49m\u001B[38;5;28;43mmap\u001B[39;49m\u001B[43m(\u001B[49m\u001B[43m_rebuild\u001B[49m\u001B[43m,\u001B[49m\u001B[43m \u001B[49m\u001B[43mexpr\u001B[49m\u001B[38;5;241;43m.\u001B[39;49m\u001B[43margs\u001B[49m\u001B[43m)\u001B[49m\u001B[43m)\u001B[49m)\n\u001B[0;32m    382\u001B[0m \u001B[38;5;28;01melse\u001B[39;00m:\n\u001B[0;32m    383\u001B[0m     \u001B[38;5;66;03m# XXX: Use as_base_exp() to handle Pow(x, n) and also exp(n)\u001B[39;00m\n\u001B[0;32m    384\u001B[0m     \u001B[38;5;66;03m# XXX: E can be a generator e.g. sring([exp(2)]) -> ZZ[E]\u001B[39;00m\n\u001B[0;32m    385\u001B[0m     base, exp \u001B[38;5;241m=\u001B[39m expr\u001B[38;5;241m.\u001B[39mas_base_exp()\n",
      "File \u001B[1;32m~\\anaconda3\\envs\\modelagem_python\\lib\\site-packages\\sympy\\polys\\rings.py:387\u001B[0m, in \u001B[0;36mPolyRing._rebuild_expr.<locals>._rebuild\u001B[1;34m(expr)\u001B[0m\n\u001B[0;32m    385\u001B[0m base, exp \u001B[38;5;241m=\u001B[39m expr\u001B[38;5;241m.\u001B[39mas_base_exp()\n\u001B[0;32m    386\u001B[0m \u001B[38;5;28;01mif\u001B[39;00m exp\u001B[38;5;241m.\u001B[39mis_Integer \u001B[38;5;129;01mand\u001B[39;00m exp \u001B[38;5;241m>\u001B[39m \u001B[38;5;241m1\u001B[39m:\n\u001B[1;32m--> 387\u001B[0m     \u001B[38;5;28;01mreturn\u001B[39;00m \u001B[43m_rebuild\u001B[49m\u001B[43m(\u001B[49m\u001B[43mbase\u001B[49m\u001B[43m)\u001B[49m\u001B[38;5;241;43m*\u001B[39;49m\u001B[38;5;241;43m*\u001B[39;49m\u001B[38;5;28;43mint\u001B[39;49m\u001B[43m(\u001B[49m\u001B[43mexp\u001B[49m\u001B[43m)\u001B[49m\n\u001B[0;32m    388\u001B[0m \u001B[38;5;28;01melse\u001B[39;00m:\n\u001B[0;32m    389\u001B[0m     \u001B[38;5;28;01mreturn\u001B[39;00m \u001B[38;5;28mself\u001B[39m\u001B[38;5;241m.\u001B[39mground_new(domain\u001B[38;5;241m.\u001B[39mconvert(expr))\n",
      "File \u001B[1;32m~\\anaconda3\\envs\\modelagem_python\\lib\\site-packages\\sympy\\polys\\rings.py:1175\u001B[0m, in \u001B[0;36mPolyElement.__pow__\u001B[1;34m(self, n)\u001B[0m\n\u001B[0;32m   1173\u001B[0m monom, coeff \u001B[38;5;241m=\u001B[39m \u001B[38;5;28mlist\u001B[39m(\u001B[38;5;28mself\u001B[39m\u001B[38;5;241m.\u001B[39mitems())[\u001B[38;5;241m0\u001B[39m]\n\u001B[0;32m   1174\u001B[0m p \u001B[38;5;241m=\u001B[39m ring\u001B[38;5;241m.\u001B[39mzero\n\u001B[1;32m-> 1175\u001B[0m \u001B[38;5;28;01mif\u001B[39;00m \u001B[43mcoeff\u001B[49m\u001B[43m \u001B[49m\u001B[38;5;241;43m==\u001B[39;49m\u001B[43m \u001B[49m\u001B[38;5;241;43m1\u001B[39;49m:\n\u001B[0;32m   1176\u001B[0m     p[ring\u001B[38;5;241m.\u001B[39mmonomial_pow(monom, n)] \u001B[38;5;241m=\u001B[39m coeff\n\u001B[0;32m   1177\u001B[0m \u001B[38;5;28;01melse\u001B[39;00m:\n",
      "File \u001B[1;32m~\\anaconda3\\envs\\modelagem_python\\lib\\site-packages\\sympy\\polys\\rings.py:672\u001B[0m, in \u001B[0;36mPolyElement.__eq__\u001B[1;34m(p1, p2)\u001B[0m\n\u001B[0;32m    670\u001B[0m \u001B[38;5;28;01mif\u001B[39;00m \u001B[38;5;129;01mnot\u001B[39;00m p2:\n\u001B[0;32m    671\u001B[0m     \u001B[38;5;28;01mreturn\u001B[39;00m \u001B[38;5;129;01mnot\u001B[39;00m p1\n\u001B[1;32m--> 672\u001B[0m \u001B[38;5;28;01melif\u001B[39;00m \u001B[38;5;28misinstance\u001B[39m(p2, PolyElement) \u001B[38;5;129;01mand\u001B[39;00m p2\u001B[38;5;241m.\u001B[39mring \u001B[38;5;241m==\u001B[39m p1\u001B[38;5;241m.\u001B[39mring:\n\u001B[0;32m    673\u001B[0m     \u001B[38;5;28;01mreturn\u001B[39;00m \u001B[38;5;28mdict\u001B[39m\u001B[38;5;241m.\u001B[39m\u001B[38;5;21m__eq__\u001B[39m(p1, p2)\n\u001B[0;32m    674\u001B[0m \u001B[38;5;28;01melif\u001B[39;00m \u001B[38;5;28mlen\u001B[39m(p1) \u001B[38;5;241m>\u001B[39m \u001B[38;5;241m1\u001B[39m:\n",
      "\u001B[1;31mKeyboardInterrupt\u001B[0m: "
     ]
    }
   ],
   "execution_count": null
  },
  {
   "cell_type": "code",
   "execution_count": 115,
   "outputs": [],
   "source": [
    "x = sp.Symbol('x')\n",
    "y = sp.symbols('y')"
   ],
   "metadata": {
    "collapsed": false,
    "pycharm": {
     "name": "#%%\n"
    }
   }
  },
  {
   "cell_type": "code",
   "execution_count": 116,
   "outputs": [],
   "source": [
    "r = sp.Function('r')(x)\n",
    "g = sp.Function('g')(x)"
   ],
   "metadata": {
    "collapsed": false,
    "pycharm": {
     "name": "#%%\n"
    }
   }
  },
  {
   "cell_type": "code",
   "execution_count": 95,
   "outputs": [],
   "source": [
    "eq_2nd = r.diff(x, x)"
   ],
   "metadata": {
    "collapsed": false,
    "pycharm": {
     "name": "#%%\n"
    }
   }
  },
  {
   "cell_type": "code",
   "execution_count": 96,
   "outputs": [
    {
     "data": {
      "text/plain": "          2          \n         d           \n-9⋅r(x)⋅───(r(x)) = 0\n          2          \n        dx           ",
      "image/png": "[encoded data removed]",
      "text/latex": "$\\displaystyle - 9 r{\\left(x \\right)} \\frac{d^{2}}{d x^{2}} r{\\left(x \\right)} = 0$"
     },
     "execution_count": 96,
     "metadata": {},
     "output_type": "execute_result"
    }
   ],
   "source": [
    "eq_diferecial = sp.Eq(eq_2nd * -9*r, 0)\n",
    "eq_diferecial"
   ],
   "metadata": {
    "collapsed": false,
    "pycharm": {
     "name": "#%%\n"
    }
   }
  },
  {
   "cell_type": "code",
   "execution_count": 97,
   "outputs": [
    {
     "data": {
      "text/plain": "r(x) = C₁ + C₂⋅x",
      "image/png": "[encoded data removed]",
      "text/latex": "$\\displaystyle r{\\left(x \\right)} = C_{1} + C_{2} x$"
     },
     "execution_count": 97,
     "metadata": {},
     "output_type": "execute_result"
    }
   ],
   "source": [
    "sp.dsolve(eq_diferecial, r)"
   ],
   "metadata": {
    "collapsed": false,
    "pycharm": {
     "name": "#%%\n"
    }
   }
  },
  {
   "cell_type": "code",
   "execution_count": 99,
   "outputs": [
    {
     "data": {
      "text/plain": "         d           \n2⋅g(x) + ──(g(x)) = 1\n         dx          ",
      "image/png": "[encoded data removed]",
      "text/latex": "$\\displaystyle 2 g{\\left(x \\right)} + \\frac{d}{d x} g{\\left(x \\right)} = 1$"
     },
     "execution_count": 99,
     "metadata": {},
     "output_type": "execute_result"
    }
   ],
   "source": [
    "eq2 = sp.Eq(g.diff(x) + 2 * g, 1)\n",
    "eq2"
   ],
   "metadata": {
    "collapsed": false,
    "pycharm": {
     "name": "#%%\n"
    }
   }
  },
  {
   "cell_type": "code",
   "execution_count": 101,
   "outputs": [
    {
     "data": {
      "text/plain": "           -2⋅x   1\ng(x) = C₁⋅ℯ     + ─\n                  2",
      "image/png": "[encoded data removed]",
      "text/latex": "$\\displaystyle g{\\left(x \\right)} = C_{1} e^{- 2 x} + \\frac{1}{2}$"
     },
     "execution_count": 101,
     "metadata": {},
     "output_type": "execute_result"
    }
   ],
   "source": [
    "sp.dsolve(eq2)"
   ],
   "metadata": {
    "collapsed": false,
    "pycharm": {
     "name": "#%%\n"
    }
   }
  },
  {
   "cell_type": "markdown",
   "source": [
    "### questão 1"
   ],
   "metadata": {
    "collapsed": false,
    "pycharm": {
     "name": "#%% md\n"
    }
   }
  },
  {
   "cell_type": "code",
   "execution_count": 104,
   "outputs": [],
   "source": [
    "y = sp.Function('y')(x)\n",
    "quest1 = sp.Eq(y.diff(x), sp.sin(5*x))"
   ],
   "metadata": {
    "collapsed": false,
    "pycharm": {
     "name": "#%%\n"
    }
   }
  },
  {
   "cell_type": "code",
   "execution_count": 106,
   "outputs": [
    {
     "data": {
      "text/plain": "            cos(5⋅x)\ny(x) = C₁ - ────────\n               5    ",
      "image/png": "[encoded data removed]",
      "text/latex": "$\\displaystyle y{\\left(x \\right)} = C_{1} - \\frac{\\cos{\\left(5 x \\right)}}{5}$"
     },
     "execution_count": 106,
     "metadata": {},
     "output_type": "execute_result"
    }
   ],
   "source": [
    "sp.dsolve(quest1)"
   ],
   "metadata": {
    "collapsed": false,
    "pycharm": {
     "name": "#%%\n"
    }
   }
  },
  {
   "cell_type": "markdown",
   "source": [
    "### questão 2"
   ],
   "metadata": {
    "collapsed": false,
    "pycharm": {
     "name": "#%% md\n"
    }
   }
  },
  {
   "cell_type": "code",
   "execution_count": 107,
   "outputs": [],
   "source": [
    "quest2 = sp.Eq(y.diff(x), (x+1)**2)"
   ],
   "metadata": {
    "collapsed": false,
    "pycharm": {
     "name": "#%%\n"
    }
   }
  },
  {
   "cell_type": "code",
   "execution_count": 112,
   "outputs": [],
   "source": [
    "solution2 = sp.dsolve(quest2)"
   ],
   "metadata": {
    "collapsed": false,
    "pycharm": {
     "name": "#%%\n"
    }
   }
  },
  {
   "cell_type": "code",
   "execution_count": 114,
   "outputs": [
    {
     "data": {
      "text/plain": "             3         \n            x     2    \ny(x) = C₁ + ── + x  + x\n            3          ",
      "image/png": "[encoded data removed]",
      "text/latex": "$\\displaystyle y{\\left(x \\right)} = C_{1} + \\frac{x^{3}}{3} + x^{2} + x$"
     },
     "execution_count": 114,
     "metadata": {},
     "output_type": "execute_result"
    }
   ],
   "source": [],
   "metadata": {
    "collapsed": false,
    "pycharm": {
     "name": "#%%\n"
    }
   }
  },
  {
   "cell_type": "code",
   "execution_count": null,
   "outputs": [],
   "source": [],
   "metadata": {
    "collapsed": false,
    "pycharm": {
     "name": "#%%\n"
    }
   }
  }
 ],
 "metadata": {
  "kernelspec": {
   "display_name": "Python 3",
   "language": "python",
   "name": "python3"
  },
  "language_info": {
   "codemirror_mode": {
    "name": "ipython",
    "version": 2
   },
   "file_extension": ".py",
   "mimetype": "text/x-python",
   "name": "python",
   "nbconvert_exporter": "python",
   "pygments_lexer": "ipython2",
   "version": "2.7.6"
  }
 },
 "nbformat": 4,
 "nbformat_minor": 0
}